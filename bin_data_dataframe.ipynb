{
 "cells": [
  {
   "cell_type": "markdown",
   "metadata": {},
   "source": [
    "Binning and looping over data?\n",
    "==============================\n",
    "The pandas functions `cut` and `groupby` can help.\n",
    "--------------------------------------------------\n",
    "\n",
    "The trick is to store the bin information along with the other event information. "
   ]
  },
  {
   "cell_type": "code",
   "execution_count": 1,
   "metadata": {},
   "outputs": [],
   "source": [
    "import numpy as np\n",
    "import pandas as pd"
   ]
  },
  {
   "cell_type": "code",
   "execution_count": 2,
   "metadata": {},
   "outputs": [],
   "source": [
    "# saving the data with named fields means we can access it in two ways:\n",
    "# data.E_true\n",
    "# data['E_true']\n",
    "# will both return arrays\n",
    "data = pd.DataFrame({'E_true':[4, 4, 4, 4, 25, 25, 25, 25], 'E_measured':[3.4, 4.2, 5.7, 1.1, 22, 20.9, 23.8, 27.9], 'Yield':[0.4, 0.9, 1.3, 1.2, 1.4, 1.1, 0.8, 0.6]})"
   ]
  },
  {
   "cell_type": "markdown",
   "metadata": {},
   "source": [
    "For each event, we want to know what bin it's in\n",
    "------------------------------------------------\n",
    "\n",
    "The code below will sort each event into the user-specified bins based on E_true.\n",
    "\n",
    "Saving the \"which bin\" information will turn out to be handy for analysis."
   ]
  },
  {
   "cell_type": "code",
   "execution_count": 3,
   "metadata": {},
   "outputs": [
    {
     "name": "stdout",
     "output_type": "stream",
     "text": [
      "   E_true  E_measured  Yield     range\n",
      "0       4         3.4    0.4   (0, 10]\n",
      "1       4         4.2    0.9   (0, 10]\n",
      "2       4         5.7    1.3   (0, 10]\n",
      "3       4         1.1    1.2   (0, 10]\n",
      "4      25        22.0    1.4  (10, 30]\n",
      "5      25        20.9    1.1  (10, 30]\n",
      "6      25        23.8    0.8  (10, 30]\n",
      "7      25        27.9    0.6  (10, 30]\n"
     ]
    }
   ],
   "source": [
    "# add a new column, the range, to the original data\n",
    "# note that for normal simulated data these \"events\" would not already be sorted \n",
    "data['range'] = pd.cut(data['E_true'], [0,10,30])\n",
    "print (data)"
   ]
  },
  {
   "cell_type": "markdown",
   "metadata": {},
   "source": [
    "We can grab all the data in each bin using `groupby`\n",
    "----------------------------------------------------\n",
    "\n",
    "The `groupby` function returns an iterable that walks through each unique bin (here bin information is stored in a field named 'range').\n",
    "\n",
    "In the example below, bin_data has all the data for one particular bin."
   ]
  },
  {
   "cell_type": "code",
   "execution_count": 4,
   "metadata": {},
   "outputs": [
    {
     "name": "stdout",
     "output_type": "stream",
     "text": [
      "(0, 10]\n",
      "   E_true  E_measured  Yield    range\n",
      "0       4         3.4    0.4  (0, 10]\n",
      "1       4         4.2    0.9  (0, 10]\n",
      "2       4         5.7    1.3  (0, 10]\n",
      "3       4         1.1    1.2  (0, 10]\n",
      "(10, 30]\n",
      "   E_true  E_measured  Yield     range\n",
      "4      25        22.0    1.4  (10, 30]\n",
      "5      25        20.9    1.1  (10, 30]\n",
      "6      25        23.8    0.8  (10, 30]\n",
      "7      25        27.9    0.6  (10, 30]\n"
     ]
    }
   ],
   "source": [
    "# the unique() function also gives us a list of bins we can iterate over\n",
    "for bin_name, bin_data in data.groupby('range'):\n",
    "    # print the bin boundaries\n",
    "    print (bin_name)\n",
    "    \n",
    "    # print the data in this bin\n",
    "    print (bin_data)\n",
    "    \n",
    "    # grab the variables out of the data\n",
    "    E = np.array(bin_data.E_measured)\n",
    "    Er_true = np.array(bin_data.E_true)\n",
    "    x = np.array(bin_data.Yield)    \n",
    "    #print (E, Er_true, x)\n",
    "    \n",
    "    # now we're ready to do the rest of the stuff in the loop"
   ]
  },
  {
   "cell_type": "markdown",
   "metadata": {},
   "source": [
    "`unique` is useful but should not be used for iteration\n",
    "-------------------------------------------------------"
   ]
  },
  {
   "cell_type": "code",
   "execution_count": null,
   "metadata": {},
   "outputs": [],
   "source": [
    "# get a list of all the values in a column\n",
    "# apparently you get a \"category\" object back?\n",
    "print (data.range.unique(), '\\n')\n",
    "\n",
    "# turn that list into a string\n",
    "label_arr = data.range.unique().astype(str)\n",
    "\n",
    "print (label_arr[0])"
   ]
  },
  {
   "cell_type": "code",
   "execution_count": null,
   "metadata": {},
   "outputs": [],
   "source": []
  }
 ],
 "metadata": {
  "kernelspec": {
   "display_name": "Python 3",
   "language": "python",
   "name": "python3"
  },
  "language_info": {
   "codemirror_mode": {
    "name": "ipython",
    "version": 3
   },
   "file_extension": ".py",
   "mimetype": "text/x-python",
   "name": "python",
   "nbconvert_exporter": "python",
   "pygments_lexer": "ipython3",
   "version": "3.7.1"
  }
 },
 "nbformat": 4,
 "nbformat_minor": 2
}
